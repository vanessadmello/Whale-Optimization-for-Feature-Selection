{
 "cells": [
  {
   "cell_type": "code",
   "execution_count": 1,
   "source": [
    "import pyspark"
   ],
   "outputs": [],
   "metadata": {}
  },
  {
   "cell_type": "code",
   "execution_count": 34,
   "source": [
    "from pyspark.sql import SparkSession\r\n",
    "from pyspark.sql import SQLContext\r\n",
    "from pyspark.sql.functions import isnan, when, count, col,slice\r\n",
    "from sklearn.neighbors import KNeighborsClassifier\r\n",
    "from sklearn.model_selection import train_test_split\r\n",
    "import matplotlib.pyplot as plt\r\n",
    "import numpy as np\r\n",
    "from numpy.random import rand\r\n",
    "from pyspark.ml.feature import VectorSlicer\r\n",
    "from pyspark.ml.feature import VectorAssembler,StringIndexer\r\n",
    "from pyspark.ml import Pipeline"
   ],
   "outputs": [],
   "metadata": {}
  },
  {
   "cell_type": "code",
   "execution_count": 3,
   "source": [
    "spark = SparkSession.builder.appName('app_name').getOrCreate()\r\n",
    "#master('local[*]').config('spark.sql.execution.arrow.pyspark.enabled', True).config('spark.sql.session.timeZone', 'UTC').config('spark.driver.memory','32G').config('spark.ui.showConsoleProgress', True).config('spark.sql.repl.eagerEval.enabled', True)"
   ],
   "outputs": [],
   "metadata": {}
  },
  {
   "cell_type": "code",
   "execution_count": null,
   "source": [
    "spark"
   ],
   "outputs": [],
   "metadata": {}
  },
  {
   "cell_type": "code",
   "execution_count": 4,
   "source": [
    "#dataframe=spark.read.option('header','true','inferSchema','true').csv('02-14-2018.csv')\r\n",
    "dataframe = spark.read.csv(\"02-14-2018.csv\", header=True, inferSchema=True)"
   ],
   "outputs": [],
   "metadata": {}
  },
  {
   "cell_type": "code",
   "execution_count": 5,
   "source": [
    "dataframe.count()"
   ],
   "outputs": [
    {
     "output_type": "execute_result",
     "data": {
      "text/plain": [
       "1048575"
      ]
     },
     "metadata": {},
     "execution_count": 5
    }
   ],
   "metadata": {}
  },
  {
   "cell_type": "code",
   "execution_count": 6,
   "source": [
    "dataframe.printSchema()"
   ],
   "outputs": [
    {
     "output_type": "stream",
     "name": "stdout",
     "text": [
      "root\n",
      " |-- Dst Port: integer (nullable = true)\n",
      " |-- Protocol: integer (nullable = true)\n",
      " |-- Timestamp: string (nullable = true)\n",
      " |-- Flow Duration: long (nullable = true)\n",
      " |-- Tot Fwd Pkts: integer (nullable = true)\n",
      " |-- Tot Bwd Pkts: integer (nullable = true)\n",
      " |-- TotLen Fwd Pkts: integer (nullable = true)\n",
      " |-- TotLen Bwd Pkts: integer (nullable = true)\n",
      " |-- Fwd Pkt Len Max: integer (nullable = true)\n",
      " |-- Fwd Pkt Len Min: integer (nullable = true)\n",
      " |-- Fwd Pkt Len Mean: double (nullable = true)\n",
      " |-- Fwd Pkt Len Std: double (nullable = true)\n",
      " |-- Bwd Pkt Len Max: integer (nullable = true)\n",
      " |-- Bwd Pkt Len Min: integer (nullable = true)\n",
      " |-- Bwd Pkt Len Mean: double (nullable = true)\n",
      " |-- Bwd Pkt Len Std: double (nullable = true)\n",
      " |-- Flow Byts/s: double (nullable = true)\n",
      " |-- Flow Pkts/s: double (nullable = true)\n",
      " |-- Flow IAT Mean: double (nullable = true)\n",
      " |-- Flow IAT Std: double (nullable = true)\n",
      " |-- Flow IAT Max: long (nullable = true)\n",
      " |-- Flow IAT Min: long (nullable = true)\n",
      " |-- Fwd IAT Tot: long (nullable = true)\n",
      " |-- Fwd IAT Mean: double (nullable = true)\n",
      " |-- Fwd IAT Std: double (nullable = true)\n",
      " |-- Fwd IAT Max: long (nullable = true)\n",
      " |-- Fwd IAT Min: long (nullable = true)\n",
      " |-- Bwd IAT Tot: integer (nullable = true)\n",
      " |-- Bwd IAT Mean: double (nullable = true)\n",
      " |-- Bwd IAT Std: double (nullable = true)\n",
      " |-- Bwd IAT Max: integer (nullable = true)\n",
      " |-- Bwd IAT Min: integer (nullable = true)\n",
      " |-- Fwd PSH Flags: integer (nullable = true)\n",
      " |-- Bwd PSH Flags: integer (nullable = true)\n",
      " |-- Fwd URG Flags: integer (nullable = true)\n",
      " |-- Bwd URG Flags: integer (nullable = true)\n",
      " |-- Fwd Header Len: integer (nullable = true)\n",
      " |-- Bwd Header Len: integer (nullable = true)\n",
      " |-- Fwd Pkts/s: double (nullable = true)\n",
      " |-- Bwd Pkts/s: double (nullable = true)\n",
      " |-- Pkt Len Min: integer (nullable = true)\n",
      " |-- Pkt Len Max: integer (nullable = true)\n",
      " |-- Pkt Len Mean: double (nullable = true)\n",
      " |-- Pkt Len Std: double (nullable = true)\n",
      " |-- Pkt Len Var: double (nullable = true)\n",
      " |-- FIN Flag Cnt: integer (nullable = true)\n",
      " |-- SYN Flag Cnt: integer (nullable = true)\n",
      " |-- RST Flag Cnt: integer (nullable = true)\n",
      " |-- PSH Flag Cnt: integer (nullable = true)\n",
      " |-- ACK Flag Cnt: integer (nullable = true)\n",
      " |-- URG Flag Cnt: integer (nullable = true)\n",
      " |-- CWE Flag Count: integer (nullable = true)\n",
      " |-- ECE Flag Cnt: integer (nullable = true)\n",
      " |-- Down/Up Ratio: integer (nullable = true)\n",
      " |-- Pkt Size Avg: double (nullable = true)\n",
      " |-- Fwd Seg Size Avg: double (nullable = true)\n",
      " |-- Bwd Seg Size Avg: double (nullable = true)\n",
      " |-- Fwd Byts/b Avg: integer (nullable = true)\n",
      " |-- Fwd Pkts/b Avg: integer (nullable = true)\n",
      " |-- Fwd Blk Rate Avg: integer (nullable = true)\n",
      " |-- Bwd Byts/b Avg: integer (nullable = true)\n",
      " |-- Bwd Pkts/b Avg: integer (nullable = true)\n",
      " |-- Bwd Blk Rate Avg: integer (nullable = true)\n",
      " |-- Subflow Fwd Pkts: integer (nullable = true)\n",
      " |-- Subflow Fwd Byts: integer (nullable = true)\n",
      " |-- Subflow Bwd Pkts: integer (nullable = true)\n",
      " |-- Subflow Bwd Byts: integer (nullable = true)\n",
      " |-- Init Fwd Win Byts: integer (nullable = true)\n",
      " |-- Init Bwd Win Byts: integer (nullable = true)\n",
      " |-- Fwd Act Data Pkts: integer (nullable = true)\n",
      " |-- Fwd Seg Size Min: integer (nullable = true)\n",
      " |-- Active Mean: double (nullable = true)\n",
      " |-- Active Std: double (nullable = true)\n",
      " |-- Active Max: integer (nullable = true)\n",
      " |-- Active Min: integer (nullable = true)\n",
      " |-- Idle Mean: double (nullable = true)\n",
      " |-- Idle Std: double (nullable = true)\n",
      " |-- Idle Max: long (nullable = true)\n",
      " |-- Idle Min: long (nullable = true)\n",
      " |-- Label: string (nullable = true)\n",
      "\n"
     ]
    }
   ],
   "metadata": {}
  },
  {
   "cell_type": "code",
   "execution_count": 7,
   "source": [
    "nullColumns = []\r\n",
    "for k in dataframe.columns:\r\n",
    "    nullRows = dataframe.where(col(k).isNull()).count()\r\n",
    "    nullR=dataframe.where(isnan(k)).count()\r\n",
    "    if nullR>0:\r\n",
    "        print(nullR)\r\n",
    "    if nullRows>0 or nullR>0:\r\n",
    "        nullColumns.append(k)\r\n",
    "print(nullColumns)\r\n",
    "print(len(nullColumns))\r\n",
    " "
   ],
   "outputs": [
    {
     "output_type": "stream",
     "name": "stdout",
     "text": [
      "2277\n",
      "['Flow Byts/s']\n",
      "1\n"
     ]
    }
   ],
   "metadata": {}
  },
  {
   "cell_type": "code",
   "execution_count": null,
   "source": [
    "(train, test) = dataframe.randomSplit([0.8, 0.2])\r\n",
    "\r\n",
    "xtrain = train.select(train.columns[0:-1])\r\n",
    "ytrain = train.select(train.columns[-1])\r\n",
    "xtest = test.select(test.columns[0:-1])\r\n",
    "ytest = test.select(test.columns[-1])\r\n"
   ],
   "outputs": [],
   "metadata": {}
  },
  {
   "cell_type": "code",
   "execution_count": 10,
   "source": [
    "# parameter\r\n",
    "fold = {'xt':xtrain, 'yt':ytrain, 'xv':xtest, 'yv':ytest}\r\n",
    "k    = 5     # k-value in KNN\r\n",
    "N    = 10    # number of particles\r\n",
    "T    = 100   # maximum number of iterations\r\n",
    "opts = {'k':k, 'fold':fold, 'N':N, 'T':T}"
   ],
   "outputs": [],
   "metadata": {}
  },
  {
   "cell_type": "code",
   "execution_count": 41,
   "source": [
    "#lb - lower bound, ub - upper bound, N - no. of particles, dim - no of columns\r\n",
    "def init_position(lb, ub, N, dim):\r\n",
    "    #creates an array of N rows and dim column matrix of type float with value 0.0\r\n",
    "    X = np.zeros([N, dim], dtype='float')\r\n",
    "    for i in range(N):\r\n",
    "        for d in range(dim):\r\n",
    "            #We add a random value to each element in matrix using initial population technique\r\n",
    "            X[i,d] = lb[0,d] + (ub[0,d] - lb[0,d]) * rand()        \r\n",
    "    return X"
   ],
   "outputs": [],
   "metadata": {}
  },
  {
   "cell_type": "code",
   "execution_count": 40,
   "source": [
    "lb = 0\r\n",
    "ub = 1\r\n",
    "dim = np.size(ytrain)\r\n",
    "if np.size(lb) == 1:\r\n",
    "    ub = ub * np.ones([1, dim], dtype='float')\r\n",
    "    lb = lb * np.ones([1, dim], dtype='float')\r\n",
    "\r\n",
    "print(dim)"
   ],
   "outputs": [
    {
     "output_type": "stream",
     "name": "stdout",
     "text": [
      "1\n"
     ]
    }
   ],
   "metadata": {}
  },
  {
   "cell_type": "code",
   "execution_count": 42,
   "source": [
    "init_position(lb, ub, N, dim)"
   ],
   "outputs": [
    {
     "output_type": "execute_result",
     "data": {
      "text/plain": [
       "array([[0.13000555],\n",
       "       [0.74991725],\n",
       "       [0.38250466],\n",
       "       [0.0479645 ],\n",
       "       [0.90346516],\n",
       "       [0.42636365],\n",
       "       [0.24419776],\n",
       "       [0.85911927],\n",
       "       [0.91207898],\n",
       "       [0.73076261]])"
      ]
     },
     "metadata": {},
     "execution_count": 42
    }
   ],
   "metadata": {}
  },
  {
   "cell_type": "code",
   "execution_count": 1,
   "source": [
    "#X- init array, thres - threshold to convert to 1 or 0\r\n",
    "def binary_conversion(X, thres, N, dim):\r\n",
    "    #creates new matrix\r\n",
    "    Xbin = np.zeros([N, dim], dtype='int')\r\n",
    "    for i in range(N):\r\n",
    "        for d in range(dim):\r\n",
    "            #depending on previous(init) matrix it will add 1 or 0 in Xbin\r\n",
    "            if X[i,d] > thres:\r\n",
    "                Xbin[i,d] = 1\r\n",
    "            else:\r\n",
    "                Xbin[i,d] = 0\r\n",
    "    return Xbin"
   ],
   "outputs": [],
   "metadata": {}
  }
 ],
 "metadata": {
  "kernelspec": {
   "name": "python3",
   "display_name": "Python 3.8.5 32-bit"
  },
  "language_info": {
   "codemirror_mode": {
    "name": "ipython",
    "version": 3
   },
   "file_extension": ".py",
   "mimetype": "text/x-python",
   "name": "python",
   "nbconvert_exporter": "python",
   "pygments_lexer": "ipython3",
   "version": "3.8.5"
  },
  "interpreter": {
   "hash": "509b267fb512f4ea89b3950981f033c9fb3b24624a7fccf41c0eed0e62720dfa"
  }
 },
 "nbformat": 4,
 "nbformat_minor": 5
}