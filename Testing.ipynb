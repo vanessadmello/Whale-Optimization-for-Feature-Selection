{
 "cells": [
  {
   "cell_type": "code",
   "execution_count": 1,
   "source": [
    "import pyspark"
   ],
   "outputs": [],
   "metadata": {}
  },
  {
   "cell_type": "code",
   "execution_count": 2,
   "source": [
    "from pyspark.sql import SparkSession\r\n",
    "from pyspark.sql import SQLContext\r\n",
    "from pyspark.sql.functions import isnan, when, count, col,slice\r\n",
    "from sklearn.neighbors import KNeighborsClassifier\r\n",
    "from sklearn.model_selection import train_test_split\r\n",
    "import matplotlib.pyplot as plt\r\n",
    "import numpy as np\r\n",
    "from numpy.random import rand\r\n",
    "from pyspark.ml.feature import VectorSlicer\r\n",
    "from pyspark.ml.feature import VectorAssembler,StringIndexer\r\n",
    "from pyspark.ml import Pipeline"
   ],
   "outputs": [],
   "metadata": {}
  },
  {
   "cell_type": "code",
   "execution_count": 3,
   "source": [
    "spark = SparkSession.builder.appName('app_name').getOrCreate()\r\n",
    "#master('local[*]').config('spark.sql.execution.arrow.pyspark.enabled', True).config('spark.sql.session.timeZone', 'UTC').config('spark.driver.memory','32G').config('spark.ui.showConsoleProgress', True).config('spark.sql.repl.eagerEval.enabled', True)"
   ],
   "outputs": [],
   "metadata": {}
  },
  {
   "cell_type": "code",
   "execution_count": null,
   "source": [
    "spark"
   ],
   "outputs": [],
   "metadata": {}
  },
  {
   "cell_type": "code",
   "execution_count": 5,
   "source": [
    "#dataframe=spark.read.option('header','true','inferSchema','true').csv('02-14-2018.csv')\r\n",
    "\r\n",
    "dataframe = spark.read.csv(\"02-14-2018.csv\", header=True, inferSchema=True)"
   ],
   "outputs": [],
   "metadata": {}
  },
  {
   "cell_type": "code",
   "execution_count": null,
   "source": [
    "dataframe.count()"
   ],
   "outputs": [],
   "metadata": {}
  },
  {
   "cell_type": "code",
   "execution_count": 6,
   "source": [
    "dataframe.printSchema()"
   ],
   "outputs": [
    {
     "output_type": "stream",
     "name": "stdout",
     "text": [
      "root\n",
      " |-- Dst Port: integer (nullable = true)\n",
      " |-- Protocol: integer (nullable = true)\n",
      " |-- Timestamp: string (nullable = true)\n",
      " |-- Flow Duration: long (nullable = true)\n",
      " |-- Tot Fwd Pkts: integer (nullable = true)\n",
      " |-- Tot Bwd Pkts: integer (nullable = true)\n",
      " |-- TotLen Fwd Pkts: integer (nullable = true)\n",
      " |-- TotLen Bwd Pkts: integer (nullable = true)\n",
      " |-- Fwd Pkt Len Max: integer (nullable = true)\n",
      " |-- Fwd Pkt Len Min: integer (nullable = true)\n",
      " |-- Fwd Pkt Len Mean: double (nullable = true)\n",
      " |-- Fwd Pkt Len Std: double (nullable = true)\n",
      " |-- Bwd Pkt Len Max: integer (nullable = true)\n",
      " |-- Bwd Pkt Len Min: integer (nullable = true)\n",
      " |-- Bwd Pkt Len Mean: double (nullable = true)\n",
      " |-- Bwd Pkt Len Std: double (nullable = true)\n",
      " |-- Flow Byts/s: double (nullable = true)\n",
      " |-- Flow Pkts/s: double (nullable = true)\n",
      " |-- Flow IAT Mean: double (nullable = true)\n",
      " |-- Flow IAT Std: double (nullable = true)\n",
      " |-- Flow IAT Max: long (nullable = true)\n",
      " |-- Flow IAT Min: long (nullable = true)\n",
      " |-- Fwd IAT Tot: long (nullable = true)\n",
      " |-- Fwd IAT Mean: double (nullable = true)\n",
      " |-- Fwd IAT Std: double (nullable = true)\n",
      " |-- Fwd IAT Max: long (nullable = true)\n",
      " |-- Fwd IAT Min: long (nullable = true)\n",
      " |-- Bwd IAT Tot: integer (nullable = true)\n",
      " |-- Bwd IAT Mean: double (nullable = true)\n",
      " |-- Bwd IAT Std: double (nullable = true)\n",
      " |-- Bwd IAT Max: integer (nullable = true)\n",
      " |-- Bwd IAT Min: integer (nullable = true)\n",
      " |-- Fwd PSH Flags: integer (nullable = true)\n",
      " |-- Bwd PSH Flags: integer (nullable = true)\n",
      " |-- Fwd URG Flags: integer (nullable = true)\n",
      " |-- Bwd URG Flags: integer (nullable = true)\n",
      " |-- Fwd Header Len: integer (nullable = true)\n",
      " |-- Bwd Header Len: integer (nullable = true)\n",
      " |-- Fwd Pkts/s: double (nullable = true)\n",
      " |-- Bwd Pkts/s: double (nullable = true)\n",
      " |-- Pkt Len Min: integer (nullable = true)\n",
      " |-- Pkt Len Max: integer (nullable = true)\n",
      " |-- Pkt Len Mean: double (nullable = true)\n",
      " |-- Pkt Len Std: double (nullable = true)\n",
      " |-- Pkt Len Var: double (nullable = true)\n",
      " |-- FIN Flag Cnt: integer (nullable = true)\n",
      " |-- SYN Flag Cnt: integer (nullable = true)\n",
      " |-- RST Flag Cnt: integer (nullable = true)\n",
      " |-- PSH Flag Cnt: integer (nullable = true)\n",
      " |-- ACK Flag Cnt: integer (nullable = true)\n",
      " |-- URG Flag Cnt: integer (nullable = true)\n",
      " |-- CWE Flag Count: integer (nullable = true)\n",
      " |-- ECE Flag Cnt: integer (nullable = true)\n",
      " |-- Down/Up Ratio: integer (nullable = true)\n",
      " |-- Pkt Size Avg: double (nullable = true)\n",
      " |-- Fwd Seg Size Avg: double (nullable = true)\n",
      " |-- Bwd Seg Size Avg: double (nullable = true)\n",
      " |-- Fwd Byts/b Avg: integer (nullable = true)\n",
      " |-- Fwd Pkts/b Avg: integer (nullable = true)\n",
      " |-- Fwd Blk Rate Avg: integer (nullable = true)\n",
      " |-- Bwd Byts/b Avg: integer (nullable = true)\n",
      " |-- Bwd Pkts/b Avg: integer (nullable = true)\n",
      " |-- Bwd Blk Rate Avg: integer (nullable = true)\n",
      " |-- Subflow Fwd Pkts: integer (nullable = true)\n",
      " |-- Subflow Fwd Byts: integer (nullable = true)\n",
      " |-- Subflow Bwd Pkts: integer (nullable = true)\n",
      " |-- Subflow Bwd Byts: integer (nullable = true)\n",
      " |-- Init Fwd Win Byts: integer (nullable = true)\n",
      " |-- Init Bwd Win Byts: integer (nullable = true)\n",
      " |-- Fwd Act Data Pkts: integer (nullable = true)\n",
      " |-- Fwd Seg Size Min: integer (nullable = true)\n",
      " |-- Active Mean: double (nullable = true)\n",
      " |-- Active Std: double (nullable = true)\n",
      " |-- Active Max: integer (nullable = true)\n",
      " |-- Active Min: integer (nullable = true)\n",
      " |-- Idle Mean: double (nullable = true)\n",
      " |-- Idle Std: double (nullable = true)\n",
      " |-- Idle Max: long (nullable = true)\n",
      " |-- Idle Min: long (nullable = true)\n",
      " |-- Label: string (nullable = true)\n",
      "\n"
     ]
    }
   ],
   "metadata": {}
  },
  {
   "cell_type": "code",
   "execution_count": 7,
   "source": [
    "dataframe = dataframe.dropna()\r\n",
    "dataframe = dataframe.drop('Timestamp')"
   ],
   "outputs": [],
   "metadata": {}
  },
  {
   "cell_type": "code",
   "execution_count": 11,
   "source": [
    "from pyspark.sql.functions import col\r\n",
    "dataframe.select(*(col(c).cast(\"float\").alias(c) for c in dataframe.columns))"
   ],
   "outputs": [
    {
     "output_type": "execute_result",
     "data": {
      "text/plain": [
       "DataFrame[Dst Port: float, Protocol: float, Flow Duration: float, Tot Fwd Pkts: float, Tot Bwd Pkts: float, TotLen Fwd Pkts: float, TotLen Bwd Pkts: float, Fwd Pkt Len Max: float, Fwd Pkt Len Min: float, Fwd Pkt Len Mean: float, Fwd Pkt Len Std: float, Bwd Pkt Len Max: float, Bwd Pkt Len Min: float, Bwd Pkt Len Mean: float, Bwd Pkt Len Std: float, Flow Byts/s: float, Flow Pkts/s: float, Flow IAT Mean: float, Flow IAT Std: float, Flow IAT Max: float, Flow IAT Min: float, Fwd IAT Tot: float, Fwd IAT Mean: float, Fwd IAT Std: float, Fwd IAT Max: float, Fwd IAT Min: float, Bwd IAT Tot: float, Bwd IAT Mean: float, Bwd IAT Std: float, Bwd IAT Max: float, Bwd IAT Min: float, Fwd PSH Flags: float, Bwd PSH Flags: float, Fwd URG Flags: float, Bwd URG Flags: float, Fwd Header Len: float, Bwd Header Len: float, Fwd Pkts/s: float, Bwd Pkts/s: float, Pkt Len Min: float, Pkt Len Max: float, Pkt Len Mean: float, Pkt Len Std: float, Pkt Len Var: float, FIN Flag Cnt: float, SYN Flag Cnt: float, RST Flag Cnt: float, PSH Flag Cnt: float, ACK Flag Cnt: float, URG Flag Cnt: float, CWE Flag Count: float, ECE Flag Cnt: float, Down/Up Ratio: float, Pkt Size Avg: float, Fwd Seg Size Avg: float, Bwd Seg Size Avg: float, Fwd Byts/b Avg: float, Fwd Pkts/b Avg: float, Fwd Blk Rate Avg: float, Bwd Byts/b Avg: float, Bwd Pkts/b Avg: float, Bwd Blk Rate Avg: float, Subflow Fwd Pkts: float, Subflow Fwd Byts: float, Subflow Bwd Pkts: float, Subflow Bwd Byts: float, Init Fwd Win Byts: float, Init Bwd Win Byts: float, Fwd Act Data Pkts: float, Fwd Seg Size Min: float, Active Mean: float, Active Std: float, Active Max: float, Active Min: float, Idle Mean: float, Idle Std: float, Idle Max: float, Idle Min: float, Label: float]"
      ]
     },
     "metadata": {},
     "execution_count": 11
    }
   ],
   "metadata": {}
  },
  {
   "cell_type": "code",
   "execution_count": 8,
   "source": [
    "dataframe.printSchema()"
   ],
   "outputs": [
    {
     "output_type": "stream",
     "name": "stdout",
     "text": [
      "root\n",
      " |-- Dst Port: integer (nullable = true)\n",
      " |-- Protocol: integer (nullable = true)\n",
      " |-- Flow Duration: long (nullable = true)\n",
      " |-- Tot Fwd Pkts: integer (nullable = true)\n",
      " |-- Tot Bwd Pkts: integer (nullable = true)\n",
      " |-- TotLen Fwd Pkts: integer (nullable = true)\n",
      " |-- TotLen Bwd Pkts: integer (nullable = true)\n",
      " |-- Fwd Pkt Len Max: integer (nullable = true)\n",
      " |-- Fwd Pkt Len Min: integer (nullable = true)\n",
      " |-- Fwd Pkt Len Mean: double (nullable = true)\n",
      " |-- Fwd Pkt Len Std: double (nullable = true)\n",
      " |-- Bwd Pkt Len Max: integer (nullable = true)\n",
      " |-- Bwd Pkt Len Min: integer (nullable = true)\n",
      " |-- Bwd Pkt Len Mean: double (nullable = true)\n",
      " |-- Bwd Pkt Len Std: double (nullable = true)\n",
      " |-- Flow Byts/s: double (nullable = true)\n",
      " |-- Flow Pkts/s: double (nullable = true)\n",
      " |-- Flow IAT Mean: double (nullable = true)\n",
      " |-- Flow IAT Std: double (nullable = true)\n",
      " |-- Flow IAT Max: long (nullable = true)\n",
      " |-- Flow IAT Min: long (nullable = true)\n",
      " |-- Fwd IAT Tot: long (nullable = true)\n",
      " |-- Fwd IAT Mean: double (nullable = true)\n",
      " |-- Fwd IAT Std: double (nullable = true)\n",
      " |-- Fwd IAT Max: long (nullable = true)\n",
      " |-- Fwd IAT Min: long (nullable = true)\n",
      " |-- Bwd IAT Tot: integer (nullable = true)\n",
      " |-- Bwd IAT Mean: double (nullable = true)\n",
      " |-- Bwd IAT Std: double (nullable = true)\n",
      " |-- Bwd IAT Max: integer (nullable = true)\n",
      " |-- Bwd IAT Min: integer (nullable = true)\n",
      " |-- Fwd PSH Flags: integer (nullable = true)\n",
      " |-- Bwd PSH Flags: integer (nullable = true)\n",
      " |-- Fwd URG Flags: integer (nullable = true)\n",
      " |-- Bwd URG Flags: integer (nullable = true)\n",
      " |-- Fwd Header Len: integer (nullable = true)\n",
      " |-- Bwd Header Len: integer (nullable = true)\n",
      " |-- Fwd Pkts/s: double (nullable = true)\n",
      " |-- Bwd Pkts/s: double (nullable = true)\n",
      " |-- Pkt Len Min: integer (nullable = true)\n",
      " |-- Pkt Len Max: integer (nullable = true)\n",
      " |-- Pkt Len Mean: double (nullable = true)\n",
      " |-- Pkt Len Std: double (nullable = true)\n",
      " |-- Pkt Len Var: double (nullable = true)\n",
      " |-- FIN Flag Cnt: integer (nullable = true)\n",
      " |-- SYN Flag Cnt: integer (nullable = true)\n",
      " |-- RST Flag Cnt: integer (nullable = true)\n",
      " |-- PSH Flag Cnt: integer (nullable = true)\n",
      " |-- ACK Flag Cnt: integer (nullable = true)\n",
      " |-- URG Flag Cnt: integer (nullable = true)\n",
      " |-- CWE Flag Count: integer (nullable = true)\n",
      " |-- ECE Flag Cnt: integer (nullable = true)\n",
      " |-- Down/Up Ratio: integer (nullable = true)\n",
      " |-- Pkt Size Avg: double (nullable = true)\n",
      " |-- Fwd Seg Size Avg: double (nullable = true)\n",
      " |-- Bwd Seg Size Avg: double (nullable = true)\n",
      " |-- Fwd Byts/b Avg: integer (nullable = true)\n",
      " |-- Fwd Pkts/b Avg: integer (nullable = true)\n",
      " |-- Fwd Blk Rate Avg: integer (nullable = true)\n",
      " |-- Bwd Byts/b Avg: integer (nullable = true)\n",
      " |-- Bwd Pkts/b Avg: integer (nullable = true)\n",
      " |-- Bwd Blk Rate Avg: integer (nullable = true)\n",
      " |-- Subflow Fwd Pkts: integer (nullable = true)\n",
      " |-- Subflow Fwd Byts: integer (nullable = true)\n",
      " |-- Subflow Bwd Pkts: integer (nullable = true)\n",
      " |-- Subflow Bwd Byts: integer (nullable = true)\n",
      " |-- Init Fwd Win Byts: integer (nullable = true)\n",
      " |-- Init Bwd Win Byts: integer (nullable = true)\n",
      " |-- Fwd Act Data Pkts: integer (nullable = true)\n",
      " |-- Fwd Seg Size Min: integer (nullable = true)\n",
      " |-- Active Mean: double (nullable = true)\n",
      " |-- Active Std: double (nullable = true)\n",
      " |-- Active Max: integer (nullable = true)\n",
      " |-- Active Min: integer (nullable = true)\n",
      " |-- Idle Mean: double (nullable = true)\n",
      " |-- Idle Std: double (nullable = true)\n",
      " |-- Idle Max: long (nullable = true)\n",
      " |-- Idle Min: long (nullable = true)\n",
      " |-- Label: string (nullable = true)\n",
      "\n"
     ]
    }
   ],
   "metadata": {}
  },
  {
   "cell_type": "code",
   "execution_count": null,
   "source": [
    "# (train, test) = dataframe.randomSplit([0.8, 0.2])\r\n",
    "# xtrain = train.select(train.iloc[:, :-1])\r\n",
    "# ytrain = train.select(train.iloc[:-1])\r\n",
    "# xtest = test.select(test.iloc[:, :-1])\r\n",
    "# ytest = test.select(test.iloc[:,-1])\r\n"
   ],
   "outputs": [],
   "metadata": {}
  },
  {
   "cell_type": "code",
   "execution_count": 9,
   "source": [
    "(train, test) = dataframe.randomSplit([0.8, 0.2])"
   ],
   "outputs": [],
   "metadata": {}
  },
  {
   "cell_type": "code",
   "execution_count": 27,
   "source": [
    "len(train.columns)"
   ],
   "outputs": [
    {
     "output_type": "execute_result",
     "data": {
      "text/plain": [
       "79"
      ]
     },
     "metadata": {},
     "execution_count": 27
    }
   ],
   "metadata": {}
  },
  {
   "cell_type": "code",
   "execution_count": 15,
   "source": [
    "xtrain = train.drop('Label')\r\n",
    "print(xtrain)"
   ],
   "outputs": [
    {
     "output_type": "stream",
     "name": "stdout",
     "text": [
      "DataFrame[Dst Port: int, Protocol: int, Flow Duration: bigint, Tot Fwd Pkts: int, Tot Bwd Pkts: int, TotLen Fwd Pkts: int, TotLen Bwd Pkts: int, Fwd Pkt Len Max: int, Fwd Pkt Len Min: int, Fwd Pkt Len Mean: double, Fwd Pkt Len Std: double, Bwd Pkt Len Max: int, Bwd Pkt Len Min: int, Bwd Pkt Len Mean: double, Bwd Pkt Len Std: double, Flow Byts/s: double, Flow Pkts/s: double, Flow IAT Mean: double, Flow IAT Std: double, Flow IAT Max: bigint, Flow IAT Min: bigint, Fwd IAT Tot: bigint, Fwd IAT Mean: double, Fwd IAT Std: double, Fwd IAT Max: bigint, Fwd IAT Min: bigint, Bwd IAT Tot: int, Bwd IAT Mean: double, Bwd IAT Std: double, Bwd IAT Max: int, Bwd IAT Min: int, Fwd PSH Flags: int, Bwd PSH Flags: int, Fwd URG Flags: int, Bwd URG Flags: int, Fwd Header Len: int, Bwd Header Len: int, Fwd Pkts/s: double, Bwd Pkts/s: double, Pkt Len Min: int, Pkt Len Max: int, Pkt Len Mean: double, Pkt Len Std: double, Pkt Len Var: double, FIN Flag Cnt: int, SYN Flag Cnt: int, RST Flag Cnt: int, PSH Flag Cnt: int, ACK Flag Cnt: int, URG Flag Cnt: int, CWE Flag Count: int, ECE Flag Cnt: int, Down/Up Ratio: int, Pkt Size Avg: double, Fwd Seg Size Avg: double, Bwd Seg Size Avg: double, Fwd Byts/b Avg: int, Fwd Pkts/b Avg: int, Fwd Blk Rate Avg: int, Bwd Byts/b Avg: int, Bwd Pkts/b Avg: int, Bwd Blk Rate Avg: int, Subflow Fwd Pkts: int, Subflow Fwd Byts: int, Subflow Bwd Pkts: int, Subflow Bwd Byts: int, Init Fwd Win Byts: int, Init Bwd Win Byts: int, Fwd Act Data Pkts: int, Fwd Seg Size Min: int, Active Mean: double, Active Std: double, Active Max: int, Active Min: int, Idle Mean: double, Idle Std: double, Idle Max: bigint, Idle Min: bigint]\n"
     ]
    }
   ],
   "metadata": {}
  },
  {
   "cell_type": "code",
   "execution_count": 20,
   "source": [
    "ytrain = train.select('Label')\r\n",
    "ytrain.take(5)"
   ],
   "outputs": [
    {
     "output_type": "execute_result",
     "data": {
      "text/plain": [
       "[Row(Label='Benign'),\n",
       " Row(Label='Benign'),\n",
       " Row(Label='Benign'),\n",
       " Row(Label='Benign'),\n",
       " Row(Label='Benign')]"
      ]
     },
     "metadata": {},
     "execution_count": 20
    }
   ],
   "metadata": {}
  },
  {
   "cell_type": "code",
   "execution_count": 21,
   "source": [
    "xtest = test.drop(\"Label\")\r\n",
    "ytest = test.select('Label')"
   ],
   "outputs": [],
   "metadata": {}
  },
  {
   "cell_type": "code",
   "execution_count": 22,
   "source": [
    "# parameter\r\n",
    "fold = {'xt':xtrain, 'yt':ytrain, 'xv':xtest, 'yv':ytest}\r\n",
    "k    = 5     # k-value in KNN\r\n",
    "N    = 10    # number of particles\r\n",
    "T    = 100   # maximum number of iterations\r\n",
    "opts = {'k':k, 'fold':fold, 'N':N, 'T':T}"
   ],
   "outputs": [],
   "metadata": {}
  },
  {
   "cell_type": "code",
   "execution_count": 23,
   "source": [
    "#lb - lower bound, ub - upper bound, N - no. of particles, dim - no of columns\r\n",
    "def init_position(lb, ub, N, dim):\r\n",
    "    #creates an array of N rows and dim column matrix of type float with value 0.0\r\n",
    "    X = np.zeros([N, dim], dtype='float')\r\n",
    "    for i in range(N):\r\n",
    "        for d in range(dim):\r\n",
    "            #We add a random value to each element in matrix using initial population technique\r\n",
    "            X[i,d] = lb[0,d] + (ub[0,d] - lb[0,d]) * rand()        \r\n",
    "    return X"
   ],
   "outputs": [],
   "metadata": {}
  },
  {
   "cell_type": "code",
   "execution_count": 29,
   "source": [
    "lb = 0\r\n",
    "ub = 1\r\n",
    "dim = len(xtrain.columns)\r\n",
    "if np.size(lb) == 1:\r\n",
    "    ub = ub * np.ones([1, dim], dtype='float')\r\n",
    "    lb = lb * np.ones([1, dim], dtype='float')\r\n",
    "\r\n",
    "print(dim)"
   ],
   "outputs": [
    {
     "output_type": "stream",
     "name": "stdout",
     "text": [
      "78\n"
     ]
    }
   ],
   "metadata": {}
  },
  {
   "cell_type": "code",
   "execution_count": 31,
   "source": [
    "#X- init array, thres - threshold to convert to 1 or 0\r\n",
    "def binary_conversion(X, thres, N, dim):\r\n",
    "    #creates new matrix\r\n",
    "    Xbin = np.zeros([N, dim], dtype='int')\r\n",
    "    for i in range(N):\r\n",
    "        for d in range(dim):\r\n",
    "            #depending on previous(init) matrix it will add 1 or 0 in Xbin\r\n",
    "            if X[i,d] > thres:\r\n",
    "                Xbin[i,d] = 1\r\n",
    "            else:\r\n",
    "                Xbin[i,d] = 0\r\n",
    "    return Xbin"
   ],
   "outputs": [],
   "metadata": {}
  },
  {
   "cell_type": "code",
   "execution_count": 32,
   "source": [
    "def boundary(x, lb, ub):\r\n",
    "    if x < lb:\r\n",
    "        x = lb\r\n",
    "    if x > ub:\r\n",
    "        x = ub   \r\n",
    "    return x"
   ],
   "outputs": [],
   "metadata": {}
  },
  {
   "cell_type": "code",
   "execution_count": 37,
   "source": [
    "def jfs(xtrain, ytrain, opts):\r\n",
    "    # Parameters\r\n",
    "    ub    = 1\r\n",
    "    lb    = 0\r\n",
    "    thres = 0.5\r\n",
    "    b     = 1       # constant\r\n",
    "    \r\n",
    "    N        = opts['N'] #No of particles\r\n",
    "    max_iter = opts['T']\r\n",
    "    if 'b' in opts:\r\n",
    "        b    = opts['b']\r\n",
    "    \r\n",
    "    # Dimension\r\n",
    "    # returns the number of columns\r\n",
    "    dim = len(xtrain.columns)\r\n",
    "    if np.size(lb) == 1:\r\n",
    "        ub = ub * np.ones([1, dim], dtype='float')\r\n",
    "        lb = lb * np.ones([1, dim], dtype='float')\r\n",
    "        \r\n",
    "    # Initialize position \r\n",
    "    X    = init_position(lb, ub, N, dim)\r\n",
    "    \r\n",
    "    # Binary conversion\r\n",
    "    Xbin = binary_conversion(X, thres, N, dim)\r\n",
    "    \r\n",
    "    # Fitness at first iteration\r\n",
    "    fit  = np.zeros([N, 1], dtype='float')\r\n",
    "    Xgb  = np.zeros([1, dim], dtype='float')\r\n",
    "    fitG = float('inf')\r\n",
    "    \r\n",
    "    for i in range(N):\r\n",
    "        fit[i,0] = Fun(xtrain, ytrain, Xbin[i,:], opts)\r\n",
    "        if fit[i,0] < fitG:\r\n",
    "            Xgb[0,:] = X[i,:]\r\n",
    "            fitG     = fit[i,0]\r\n",
    "        \r\n",
    "    # Pre\r\n",
    "    curve = np.zeros([1, max_iter], dtype='float') \r\n",
    "    t     = 0\r\n",
    "    \r\n",
    "    curve[0,t] = fitG.copy()\r\n",
    "    print(\"Generation:\", t + 1)\r\n",
    "    print(\"Best (WOA):\", curve[0,t])\r\n",
    "    t += 1\r\n",
    "\r\n",
    "    while t < max_iter:\r\n",
    "        # Define a, linearly decreases from 2 to 0 \r\n",
    "        a = 2 - t * (2 / max_iter)\r\n",
    "        \r\n",
    "        for i in range(N):\r\n",
    "            # Parameter A (2.3)\r\n",
    "            A = 2 * a * rand() - a\r\n",
    "            # Paramater C (2.4)\r\n",
    "            C = 2 * rand()\r\n",
    "            # Parameter p, random number in [0,1]\r\n",
    "            p = rand()\r\n",
    "            # Parameter l, random number in [-1,1]\r\n",
    "            l = -1 + 2 * rand()  \r\n",
    "            # Whale position update (2.6)\r\n",
    "            if p  < 0.5:\r\n",
    "                # {1} Encircling prey\r\n",
    "                if abs(A) < 1:\r\n",
    "                    for d in range(dim):\r\n",
    "                        # Compute D (2.1)\r\n",
    "                        Dx     = abs(C * Xgb[0,d] - X[i,d])\r\n",
    "                        # Position update (2.2)\r\n",
    "                        X[i,d] = Xgb[0,d] - A * Dx\r\n",
    "                        # Boundary\r\n",
    "                        X[i,d] = boundary(X[i,d], lb[0,d], ub[0,d])\r\n",
    "                \r\n",
    "                # {2} Search for prey\r\n",
    "                elif abs(A) >= 1:\r\n",
    "                    for d in range(dim):\r\n",
    "                        # Select a random whale\r\n",
    "                        k      = np.random.randint(low = 0, high = N)\r\n",
    "                        # Compute D (2.7)\r\n",
    "                        Dx     = abs(C * X[k,d] - X[i,d])\r\n",
    "                        # Position update (2.8)\r\n",
    "                        X[i,d] = X[k,d] - A * Dx\r\n",
    "                        # Boundary\r\n",
    "                        X[i,d] = boundary(X[i,d], lb[0,d], ub[0,d])\r\n",
    "            \r\n",
    "            # {3} Bubble-net attacking \r\n",
    "            elif p >= 0.5:\r\n",
    "                for d in range(dim):\r\n",
    "                    # Distance of whale to prey\r\n",
    "                    dist   = abs(Xgb[0,d] - X[i,d])\r\n",
    "                    # Position update (2.5)\r\n",
    "                    X[i,d] = dist * np.exp(b * l) * np.cos(2 * np.pi * l) + Xgb[0,d] \r\n",
    "                    # Boundary\r\n",
    "                    X[i,d] = boundary(X[i,d], lb[0,d], ub[0,d])\r\n",
    "        \r\n",
    "        # Binary conversion\r\n",
    "        Xbin = binary_conversion(X, thres, N, dim)\r\n",
    "        \r\n",
    "        # Fitness\r\n",
    "        for i in range(N):\r\n",
    "            fit[i,0] = Fun(xtrain, ytrain, Xbin[i,:], opts)\r\n",
    "            if fit[i,0] < fitG:\r\n",
    "                Xgb[0,:] = X[i,:]\r\n",
    "                fitG     = fit[i,0]\r\n",
    "        \r\n",
    "        # Store result\r\n",
    "        curve[0,t] = fitG.copy()\r\n",
    "        print(\"Generation:\", t + 1)\r\n",
    "        print(\"Best (WOA):\", curve[0,t])\r\n",
    "        t += 1            \r\n",
    "\r\n",
    "            \r\n",
    "    # Best feature subset\r\n",
    "    Gbin       = binary_conversion(Xgb, thres, 1, dim) \r\n",
    "    Gbin       = Gbin.reshape(dim)    \r\n",
    "    pos        = np.asarray(range(0, dim))    \r\n",
    "    sel_index  = pos[Gbin == 1]\r\n",
    "    num_feat   = len(sel_index)\r\n",
    "    # Create dictionary\r\n",
    "    woa_data = {'sf': sel_index, 'c': curve, 'nf': num_feat}\r\n",
    "    \r\n",
    "    return woa_data"
   ],
   "outputs": [],
   "metadata": {}
  },
  {
   "cell_type": "code",
   "execution_count": 39,
   "source": [
    "def Fun(xtrain, ytrain, x, opts):\r\n",
    "    # Parameters\r\n",
    "    alpha    = 0.99\r\n",
    "    beta     = 1 - alpha\r\n",
    "    # Original feature size\r\n",
    "    max_feat = len(x)\r\n",
    "    # Number of selected features\r\n",
    "    num_feat = np.sum(x == 1)\r\n",
    "    # Solve if no feature selected\r\n",
    "    if num_feat == 0:\r\n",
    "        cost  = 1\r\n",
    "    else:\r\n",
    "        # Get error rate\r\n",
    "        error = error_rate(xtrain, ytrain, x, opts)\r\n",
    "        # Objective function\r\n",
    "        cost  = alpha * error + beta * (num_feat / max_feat)\r\n",
    "        \r\n",
    "    return cost"
   ],
   "outputs": [],
   "metadata": {}
  },
  {
   "cell_type": "code",
   "execution_count": 44,
   "source": [
    "def error_rate(xtrain, ytrain, x, opts):\r\n",
    "    # parameters\r\n",
    "    k     = opts['k']\r\n",
    "    fold  = opts['fold']\r\n",
    "    xt    = fold['xt']\r\n",
    "    yt    = fold['yt']\r\n",
    "    xv    = fold['xv']\r\n",
    "    yv    = fold['yv']\r\n",
    "    \r\n",
    "    # Number of instances\r\n",
    "    num_train = len(xt.columns)\r\n",
    "    num_valid = len(xv.columns)\r\n",
    "    # Define selected features\r\n",
    "    xtrain  = xt[:, x == 1]\r\n",
    "    ytrain  = yt.reshape(num_train)  # Solve bug\r\n",
    "    xvalid  = xv[:, x == 1]\r\n",
    "    yvalid  = yv.reshape(num_valid)  # Solve bug   \r\n",
    "    # Training\r\n",
    "    mdl     = KNeighborsClassifier(n_neighbors = k)\r\n",
    "    mdl.fit(xtrain, ytrain)\r\n",
    "    # Prediction\r\n",
    "    ypred   = mdl.predict(xvalid)\r\n",
    "    acc     = np.sum(yvalid == ypred) / num_valid\r\n",
    "    error   = 1 - acc\r\n",
    "    \r\n",
    "    return error"
   ],
   "outputs": [],
   "metadata": {}
  },
  {
   "cell_type": "code",
   "execution_count": 40,
   "source": [
    "feat = dataframe.drop('Label')\r\n",
    "label = dataframe.select(\"Label\")"
   ],
   "outputs": [],
   "metadata": {}
  },
  {
   "cell_type": "code",
   "execution_count": null,
   "source": [
    "# perform feature selection\r\n",
    "fmdl = jfs(feat, label, opts)"
   ],
   "outputs": [],
   "metadata": {}
  }
 ],
 "metadata": {
  "kernelspec": {
   "name": "python3",
   "display_name": "Python 3.8.5 32-bit"
  },
  "language_info": {
   "codemirror_mode": {
    "name": "ipython",
    "version": 3
   },
   "file_extension": ".py",
   "mimetype": "text/x-python",
   "name": "python",
   "nbconvert_exporter": "python",
   "pygments_lexer": "ipython3",
   "version": "3.8.5"
  },
  "interpreter": {
   "hash": "509b267fb512f4ea89b3950981f033c9fb3b24624a7fccf41c0eed0e62720dfa"
  }
 },
 "nbformat": 4,
 "nbformat_minor": 5
}